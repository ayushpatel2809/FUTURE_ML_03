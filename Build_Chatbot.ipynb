{
  "nbformat": 4,
  "nbformat_minor": 0,
  "metadata": {
    "colab": {
      "provenance": [],
      "authorship_tag": "ABX9TyPuafWKiv3yWIygUso+UlnZ",
      "include_colab_link": true
    },
    "kernelspec": {
      "name": "python3",
      "display_name": "Python 3"
    },
    "language_info": {
      "name": "python"
    }
  },
  "cells": [
    {
      "cell_type": "markdown",
      "metadata": {
        "id": "view-in-github",
        "colab_type": "text"
      },
      "source": [
        "<a href=\"https://colab.research.google.com/github/ayushpatel2809/FUTURE_ML_03/blob/main/Build_Chatbot.ipynb\" target=\"_parent\"><img src=\"https://colab.research.google.com/assets/colab-badge.svg\" alt=\"Open In Colab\"/></a>"
      ]
    },
    {
      "cell_type": "code",
      "execution_count": 8,
      "metadata": {
        "colab": {
          "base_uri": "https://localhost:8080/"
        },
        "id": "0Eewg3oq5_VJ",
        "outputId": "181cd0ff-1902-468f-ca3e-7b00ac122969"
      },
      "outputs": [
        {
          "output_type": "stream",
          "name": "stdout",
          "text": [
            "🤖 Chatbot: Hello! I'm your customer support assistant. \n",
            "You: hi\n",
            "🤖 Chatbot: Hi there! Need assistance?😀\n",
            "You: how are you ?\n",
            "🤖 Chatbot: I'm just a bot, but I'm functioning perfectly!😀🔥\n",
            "You: bye\n",
            "🤖 Chatbot: Goodbye! Have a great day!\n"
          ]
        }
      ],
      "source": [
        "import random\n",
        "\n",
        "# FAQ data with keywords and responses\n",
        "faq_data = {\n",
        "    \"hi\": [\"Hello! How can I help you today?😀\", \"Hi there! Need assistance?😀\"],\n",
        "    \"hello\": [\"Hey! How can I support you today?🔥\"],\n",
        "    \"my name is\": [\"Oh great name how can I help you today?✨\"],\n",
        "    \"how are you\": [\"I'm just a bot, but I'm functioning perfectly!😀🔥\"],\n",
        "    \"heyy i need help\": [\"Of course! What do you need help with?✨\"],\n",
        "    \"i need help\": [\"Of course! What do you need help with?\"],\n",
        "    \"what can you do\": [\"i am help with some basic answers what do you need right now?😀\"],\n",
        "    \"refund\": [\n",
        "        \"Our refund policy allows returns within 30 days.\",\n",
        "        \"You can request a refund from your account > Orders section.\"\n",
        "    ],\n",
        "    \"return\": [\n",
        "        \"To return a product, go to your orders and click on 'Return'.\",\n",
        "        \"Returns are accepted within 30 days of delivery.\"\n",
        "    ],\n",
        "    \"order status\": [\n",
        "        \"Please provide your order number to check the status.\",\n",
        "        \"You can check your order status in your profile under 'My Orders'.\"\n",
        "    ],\n",
        "    \"shipping\": [\n",
        "        \"Standard shipping takes 3-5 business days.\",\n",
        "        \"We offer free shipping on orders over ₹500.\"\n",
        "    ],\n",
        "    \"bye\": [\"Goodbye! Have a great day!\", \"Bye! Feel free to chat anytime.\"],\n",
        "}\n",
        "\n",
        "default_response = \"Sorry, I didn't understand that. Could you try rephrasing your question?\"\n",
        "\n",
        "def get_bot_response(user_input):\n",
        "    user_input = user_input.lower()\n",
        "    for key in faq_data:\n",
        "        if key in user_input:\n",
        "            return random.choice(faq_data[key])\n",
        "    return default_response\n",
        "\n",
        "def start_chat():\n",
        "    print(\"🤖 Chatbot: Hello! I'm your customer support assistant. \")\n",
        "    while True:\n",
        "        user = input(\"You: \")\n",
        "        if user.lower() in [\"bye\", \"exit\", \"quit\"]:\n",
        "            print(\"🤖 Chatbot:\", random.choice(faq_data[\"bye\"]))\n",
        "            break\n",
        "        response = get_bot_response(user)\n",
        "        print(\"🤖 Chatbot:\", response)\n",
        "\n",
        "if __name__ == \"__main__\":\n",
        "\n",
        "    start_chat()"
      ]
    }
  ]
}